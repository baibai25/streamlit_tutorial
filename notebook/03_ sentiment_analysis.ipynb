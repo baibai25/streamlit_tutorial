{
 "cells": [
  {
   "cell_type": "code",
   "execution_count": 1,
   "metadata": {},
   "outputs": [
    {
     "name": "stderr",
     "output_type": "stream",
     "text": [
      "/Users/yata/Desktop/streamlit_tutorial/.venv/lib/python3.9/site-packages/tqdm/auto.py:21: TqdmWarning: IProgress not found. Please update jupyter and ipywidgets. See https://ipywidgets.readthedocs.io/en/stable/user_install.html\n",
      "  from .autonotebook import tqdm as notebook_tqdm\n"
     ]
    }
   ],
   "source": [
    "import pandas as pd\n",
    "import numpy as np\n",
    "import torch\n",
    "import torch.nn.functional as F\n",
    "from transformers import AutoTokenizer, AutoModelForSequenceClassification\n",
    "import matplotlib.pyplot as plt\n",
    "import seaborn as sns"
   ]
  },
  {
   "cell_type": "code",
   "execution_count": 2,
   "metadata": {},
   "outputs": [],
   "source": [
    "tokenizer = AutoTokenizer.from_pretrained(\"jarvisx17/japanese-sentiment-analysis\")\n",
    "model = AutoModelForSequenceClassification.from_pretrained(\n",
    "    \"jarvisx17/japanese-sentiment-analysis\"\n",
    ")"
   ]
  },
  {
   "cell_type": "code",
   "execution_count": 3,
   "metadata": {},
   "outputs": [],
   "source": [
    "inputs = tokenizer(\"🤗セグメント利益は、前期比8.3％増の24億28百万円となった\", return_tensors=\"pt\")\n",
    "outputs = model(**inputs)\n",
    "proba = F.softmax(outputs.logits, dim=1)\n",
    "proba = proba.detach().numpy().flatten()\n",
    "proba = 100 * np.round(proba, 2)"
   ]
  },
  {
   "cell_type": "code",
   "execution_count": 4,
   "metadata": {},
   "outputs": [],
   "source": [
    "df = pd.DataFrame(proba, columns=[\"Probability\"])\n",
    "df[\"Type\"] = [\"Negative\", \"Positive\"]"
   ]
  },
  {
   "cell_type": "code",
   "execution_count": 5,
   "metadata": {},
   "outputs": [
    {
     "data": {
      "text/html": [
       "<div>\n",
       "<style scoped>\n",
       "    .dataframe tbody tr th:only-of-type {\n",
       "        vertical-align: middle;\n",
       "    }\n",
       "\n",
       "    .dataframe tbody tr th {\n",
       "        vertical-align: top;\n",
       "    }\n",
       "\n",
       "    .dataframe thead th {\n",
       "        text-align: right;\n",
       "    }\n",
       "</style>\n",
       "<table border=\"1\" class=\"dataframe\">\n",
       "  <thead>\n",
       "    <tr style=\"text-align: right;\">\n",
       "      <th></th>\n",
       "      <th>Probability</th>\n",
       "      <th>Type</th>\n",
       "    </tr>\n",
       "  </thead>\n",
       "  <tbody>\n",
       "    <tr>\n",
       "      <th>0</th>\n",
       "      <td>0.0</td>\n",
       "      <td>Negative</td>\n",
       "    </tr>\n",
       "    <tr>\n",
       "      <th>1</th>\n",
       "      <td>100.0</td>\n",
       "      <td>Positive</td>\n",
       "    </tr>\n",
       "  </tbody>\n",
       "</table>\n",
       "</div>"
      ],
      "text/plain": [
       "   Probability      Type\n",
       "0          0.0  Negative\n",
       "1        100.0  Positive"
      ]
     },
     "execution_count": 5,
     "metadata": {},
     "output_type": "execute_result"
    }
   ],
   "source": [
    "df"
   ]
  },
  {
   "cell_type": "code",
   "execution_count": 6,
   "metadata": {},
   "outputs": [
    {
     "data": {
      "image/png": "[encoded data removed]",
      "text/plain": [
       "<Figure size 640x480 with 1 Axes>"
      ]
     },
     "metadata": {},
     "output_type": "display_data"
    }
   ],
   "source": [
    "plt.Figure(figsize=(1, 1), dpi=200)\n",
    "sns.barplot(data=df, x=\"Probability\", y=\"Type\")\n",
    "plt.show()"
   ]
  },
  {
   "cell_type": "code",
   "execution_count": 7,
   "metadata": {},
   "outputs": [
    {
     "name": "stdout",
     "output_type": "stream",
     "text": [
      "Overwriting app.py\n"
     ]
    }
   ],
   "source": [
    "%%writefile app.py\n",
    "\n",
    "import matplotlib.pyplot as plt\n",
    "import pandas as pd\n",
    "import seaborn as sns\n",
    "import streamlit as st\n",
    "import torch.nn.functional as F\n",
    "from transformers import AutoModelForSequenceClassification, AutoTokenizer\n",
    "\n",
    "\n",
    "def predict(text):\n",
    "    inputs = tokenizer(text, return_tensors=\"pt\")\n",
    "    outputs = model(**inputs)\n",
    "    proba = F.softmax(outputs.logits, dim=1)\n",
    "    proba = proba.detach().numpy().flatten()\n",
    "    proba = 100 * proba\n",
    "    # proba = 100 * np.round(proba, 2)\n",
    "\n",
    "    return proba\n",
    "\n",
    "\n",
    "tokenizer = AutoTokenizer.from_pretrained(\"jarvisx17/japanese-sentiment-analysis\")\n",
    "model = AutoModelForSequenceClassification.from_pretrained(\n",
    "    \"jarvisx17/japanese-sentiment-analysis\"\n",
    ")\n",
    "\n",
    "st.title(\"感情分析アプリ\")\n",
    "st.header(\"テキストからポジネガ判定を実施します。\")\n",
    "\n",
    "# User input\n",
    "text = st.text_input(\"テキストを入力してください\")\n",
    "\n",
    "if st.button(\"分析を実行\"):\n",
    "    with st.spinner(\"推論中...\"):\n",
    "        proba = predict(text)\n",
    "\n",
    "        # 確率グラフを表示\n",
    "        df = pd.DataFrame(proba, columns=[\"Probability\"])\n",
    "        df[\"Type\"] = [\"Negative\", \"Positive\"]\n",
    "        fig = plt.figure(figsize=(15, 5))\n",
    "        sns.barplot(data=df, x=\"Probability\", y=\"Type\")\n",
    "        st.pyplot(fig)\n",
    "\n",
    "        # 確率を表示\n",
    "        st.write(f\"Negative: {df['Probability'].loc[0]}%\")\n",
    "        st.write(f\"Positive: {df['Probability'].loc[1]}%\")\n"
   ]
  }
 ],
 "metadata": {
  "kernelspec": {
   "display_name": ".venv",
   "language": "python",
   "name": "python3"
  },
  "language_info": {
   "codemirror_mode": {
    "name": "ipython",
    "version": 3
   },
   "file_extension": ".py",
   "mimetype": "text/x-python",
   "name": "python",
   "nbconvert_exporter": "python",
   "pygments_lexer": "ipython3",
   "version": "3.9.12"
  }
 },
 "nbformat": 4,
 "nbformat_minor": 2
}
