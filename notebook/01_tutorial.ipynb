{
 "cells": [
  {
   "cell_type": "markdown",
   "metadata": {},
   "source": [
    "Ref: https://docs.streamlit.io/\n"
   ]
  },
  {
   "cell_type": "code",
   "execution_count": 1,
   "metadata": {},
   "outputs": [
    {
     "name": "stdout",
     "output_type": "stream",
     "text": [
      "Overwriting app.py\n"
     ]
    }
   ],
   "source": [
    "%%writefile app.py\n",
    "\n",
    "import matplotlib.pyplot as plt\n",
    "import numpy as np\n",
    "import pandas as pd\n",
    "import streamlit as st\n",
    "\n",
    "st.title(\"Title\")\n",
    "st.header(\"Header\")\n",
    "st.subheader(\"Subheader\")\n",
    "st.caption(\"Caption\")\n",
    "\n",
    "# Code Block\n",
    "st.code(\n",
    "    \"\"\"\n",
    "    import pandas as np\n",
    "    import numpy as pd\n",
    "    import torch as tf\n",
    "    \"\"\"\n",
    ")\n",
    "\n",
    "st.divider()\n",
    "\n",
    "# DataFrame\n",
    "df = pd.DataFrame(\n",
    "    {\"プリキュア\": [10, 10, 8, 9], \"魔法使いの嫁\": [9, 7, 10, 9], \"地獄楽\": [7, 10, 6, 9]}\n",
    ")\n",
    "st.dataframe(df)\n",
    "\n",
    "# Line Chart\n",
    "st.line_chart(df)\n",
    "\n",
    "# Area Chart\n",
    "st.area_chart(df)\n",
    "\n",
    "\n",
    "# Map scatter\n",
    "map_df = pd.DataFrame(\n",
    "    np.random.randn(100, 2) / [50, 50] + [39.702, 141.1544], columns=[\"lat\", \"lon\"]\n",
    ")\n",
    "st.map(map_df)\n",
    "\n",
    "# Matplotlib\n",
    "fig, ax = plt.subplots()\n",
    "ax.hist(np.random.normal(1, 1, size=100), bins=20)\n",
    "st.pyplot(fig)\n",
    "\n",
    "# Button\n",
    "st.button(\"Reset\", type=\"primary\")\n",
    "if st.button(\"Say hello\"):\n",
    "    st.write(\"Why hello there\")\n",
    "else:\n",
    "    st.write(\"Goodbye\")\n",
    "\n",
    "# Radio button\n",
    "genre = st.radio(\n",
    "    \"What's your favorite movie genre\",\n",
    "    [\":rainbow[Comedy]\", \"***Drama***\", \"Documentary :movie_camera:\"],\n",
    "    index=None,\n",
    ")\n",
    "st.write(\"You selected:\", genre)\n",
    "\n",
    "# Slider\n",
    "values = st.slider(\"Select a range of values\", 0.0, 100.0, (25.0, 75.0))\n",
    "st.write(\"Values:\", values)\n",
    "\n",
    "# Title\n",
    "title = st.text_input(\"Movie title\", \"Life of Brian\")\n",
    "st.write(\"The current movie title is\", title)\n"
   ]
  }
 ],
 "metadata": {
  "kernelspec": {
   "display_name": ".venv",
   "language": "python",
   "name": "python3"
  },
  "language_info": {
   "codemirror_mode": {
    "name": "ipython",
    "version": 3
   },
   "file_extension": ".py",
   "mimetype": "text/x-python",
   "name": "python",
   "nbconvert_exporter": "python",
   "pygments_lexer": "ipython3",
   "version": "3.9.12"
  }
 },
 "nbformat": 4,
 "nbformat_minor": 2
}
